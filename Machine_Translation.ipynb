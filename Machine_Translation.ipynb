{
  "cells": [
    {
      "cell_type": "markdown",
      "metadata": {
        "id": "m64VxDTW5euL"
      },
      "source": [
        "## Importing Libraries"
      ]
    },
    {
      "cell_type": "code",
      "execution_count": null,
      "metadata": {
        "id": "rimgsXgj5eqJ"
      },
      "outputs": [],
      "source": [
        "import tensorflow as tf"
      ]
    },
    {
      "cell_type": "code",
      "source": [
        "a=[[[1,2,3,4],\n",
        " [5,6,7,8]]]\n",
        "tf.argmax(a,axis=-1)"
      ],
      "metadata": {
        "colab": {
          "base_uri": "https://localhost:8080/"
        },
        "id": "W0FW_3vCrxy7",
        "outputId": "b392d12c-b6bb-4746-8913-f044173fcea2"
      },
      "execution_count": null,
      "outputs": [
        {
          "output_type": "execute_result",
          "data": {
            "text/plain": [
              "<tf.Tensor: shape=(1, 2), dtype=int64, numpy=array([[3, 3]])>"
            ]
          },
          "metadata": {},
          "execution_count": 2
        }
      ]
    },
    {
      "cell_type": "markdown",
      "metadata": {
        "id": "51EYLmTZ5eor"
      },
      "source": [
        "## Importing Data"
      ]
    },
    {
      "cell_type": "code",
      "execution_count": null,
      "metadata": {
        "colab": {
          "base_uri": "https://localhost:8080/"
        },
        "id": "g9hHRAbj3oxf",
        "outputId": "c50173e6-45a0-4397-e0f9-67d581f1072b"
      },
      "outputs": [
        {
          "output_type": "stream",
          "name": "stdout",
          "text": [
            "--2023-06-24 09:44:14--  https://www.manythings.org/anki/fra-eng.zip\n",
            "Resolving www.manythings.org (www.manythings.org)... 173.254.30.110\n",
            "Connecting to www.manythings.org (www.manythings.org)|173.254.30.110|:443... connected.\n",
            "HTTP request sent, awaiting response... 200 OK\n",
            "Length: 7420323 (7.1M) [application/zip]\n",
            "Saving to: ‘fra-eng.zip’\n",
            "\n",
            "fra-eng.zip         100%[===================>]   7.08M  33.5MB/s    in 0.2s    \n",
            "\n",
            "2023-06-24 09:44:15 (33.5 MB/s) - ‘fra-eng.zip’ saved [7420323/7420323]\n",
            "\n"
          ]
        }
      ],
      "source": [
        "!wget https://www.manythings.org/anki/fra-eng.zip"
      ]
    },
    {
      "cell_type": "code",
      "execution_count": null,
      "metadata": {
        "colab": {
          "base_uri": "https://localhost:8080/"
        },
        "id": "t5CsfeTM4ww0",
        "outputId": "6e908db0-d208-4690-9c7f-570052011c68"
      },
      "outputs": [
        {
          "output_type": "stream",
          "name": "stdout",
          "text": [
            "Archive:  /content/fra-eng.zip\n",
            "  inflating: /content/fra/_about.txt  \n",
            "  inflating: /content/fra/fra.txt    \n"
          ]
        }
      ],
      "source": [
        "!unzip \"/content/fra-eng.zip\" -d \"/content/fra\""
      ]
    },
    {
      "cell_type": "code",
      "execution_count": null,
      "metadata": {
        "id": "6viu4go75QBa"
      },
      "outputs": [],
      "source": [
        "dataset=tf.data.TextLineDataset(\"/content/fra/fra.txt\")"
      ]
    },
    {
      "cell_type": "code",
      "execution_count": null,
      "metadata": {
        "colab": {
          "base_uri": "https://localhost:8080/"
        },
        "id": "r1W8YYep6QA2",
        "outputId": "231cc531-3e2d-4ca1-e19c-b4fdb2048f8d"
      },
      "outputs": [
        {
          "output_type": "stream",
          "name": "stdout",
          "text": [
            "tf.Tensor(b'Go.\\tVa !\\tCC-BY 2.0 (France) Attribution: tatoeba.org #2877272 (CM) & #1158250 (Wittydev)', shape=(), dtype=string)\n",
            "tf.Tensor(b'Go.\\tMarche.\\tCC-BY 2.0 (France) Attribution: tatoeba.org #2877272 (CM) & #8090732 (Micsmithel)', shape=(), dtype=string)\n",
            "tf.Tensor(b'Go.\\tEn route !\\tCC-BY 2.0 (France) Attribution: tatoeba.org #2877272 (CM) & #8267435 (felix63)', shape=(), dtype=string)\n",
            "tf.Tensor(b'Go.\\tBouge !\\tCC-BY 2.0 (France) Attribution: tatoeba.org #2877272 (CM) & #9022935 (Micsmithel)', shape=(), dtype=string)\n",
            "tf.Tensor(b'Hi.\\tSalut !\\tCC-BY 2.0 (France) Attribution: tatoeba.org #538123 (CM) & #509819 (Aiji)', shape=(), dtype=string)\n"
          ]
        }
      ],
      "source": [
        "for i in dataset.take(5):\n",
        "  print(i)"
      ]
    },
    {
      "cell_type": "code",
      "execution_count": null,
      "metadata": {
        "colab": {
          "base_uri": "https://localhost:8080/"
        },
        "id": "1a6eX1fY7seQ",
        "outputId": "9dd670fd-2de6-42bc-de6d-50186d0fb44c"
      },
      "outputs": [
        {
          "output_type": "execute_result",
          "data": {
            "text/plain": [
              "217975"
            ]
          },
          "metadata": {},
          "execution_count": 7
        }
      ],
      "source": [
        "len(list(dataset))# total number of lines/documents"
      ]
    },
    {
      "cell_type": "code",
      "execution_count": null,
      "metadata": {
        "colab": {
          "base_uri": "https://localhost:8080/"
        },
        "id": "goCJ3H226UPq",
        "outputId": "e9ba63a0-e136-4414-f2c9-95b694379c6e"
      },
      "outputs": [
        {
          "output_type": "stream",
          "name": "stdout",
          "text": [
            "tf.Tensor(b\"It may be impossible to get a completely error-free corpus due to the nature of this kind of collaborative effort. However, if we encourage members to contribute sentences in their own languages rather than experiment in languages they are learning, we might be able to minimize errors.\\tIl est peut-\\xc3\\xaatre impossible d'obtenir un Corpus compl\\xc3\\xa8tement d\\xc3\\xa9nu\\xc3\\xa9 de fautes, \\xc3\\xa9tant donn\\xc3\\xa9e la nature de ce type d'entreprise collaborative. Cependant, si nous encourageons les membres \\xc3\\xa0 produire des phrases dans leurs propres langues plut\\xc3\\xb4t que d'exp\\xc3\\xa9rimenter dans les langues qu'ils apprennent, nous pourrions \\xc3\\xaatre en mesure de r\\xc3\\xa9duire les erreurs.\\tCC-BY 2.0 (France) Attribution: tatoeba.org #2024159 (CK) & #2024564 (sacredceltic)\", shape=(), dtype=string)\n",
            "106\n"
          ]
        }
      ],
      "source": [
        "for i in dataset.skip(217974).take(1):\n",
        "  print(i)\n",
        "  print(len(tf.strings.split(i,\" \"))) # len of last line/document to get the sequence length"
      ]
    },
    {
      "cell_type": "markdown",
      "metadata": {
        "id": "J5JEZ5Sv48sm"
      },
      "source": [
        "## Data Preprocessing"
      ]
    },
    {
      "cell_type": "markdown",
      "metadata": {
        "id": "XM66pT2S5AVY"
      },
      "source": [
        "### Converting text to vectors"
      ]
    },
    {
      "cell_type": "code",
      "execution_count": null,
      "metadata": {
        "id": "Fma3J3LA6-lP"
      },
      "outputs": [],
      "source": [
        "# Vectorizing english sequence - token index method\n",
        "english_Vector=tf.keras.layers.TextVectorization(max_tokens=10000,\n",
        "                                                 standardize=\"lower_and_strip_punctuation\",\n",
        "                                                 output_sequence_length=70\n",
        "                                                 )"
      ]
    },
    {
      "cell_type": "code",
      "execution_count": null,
      "metadata": {
        "id": "OiH6Iy7yCWUc"
      },
      "outputs": [],
      "source": [
        "# Vectorizing french sequence - token index method\n",
        "french_Vector=tf.keras.layers.TextVectorization(max_tokens=10000,\n",
        "                                                 standardize=\"lower_and_strip_punctuation\",\n",
        "                                                 output_sequence_length=70\n",
        "                                                 )"
      ]
    },
    {
      "cell_type": "markdown",
      "metadata": {
        "id": "0MQ4kikyCZES"
      },
      "source": [
        "### Getting Vocabulary"
      ]
    },
    {
      "cell_type": "code",
      "execution_count": null,
      "metadata": {
        "id": "e0ol5-OVAtEx"
      },
      "outputs": [],
      "source": [
        "#for getting all vocabulary\n",
        "def vocab(inp):\n",
        "  text=tf.strings.split(inp,\"\\t\")\n",
        "  return text[0],\"start \"+text[1]+\" end\""
      ]
    },
    {
      "cell_type": "code",
      "execution_count": null,
      "metadata": {
        "id": "42oslPXGBgn2"
      },
      "outputs": [],
      "source": [
        "vocab_text=dataset.map(vocab)"
      ]
    },
    {
      "cell_type": "code",
      "execution_count": null,
      "metadata": {
        "id": "33RTJyYTB2J0"
      },
      "outputs": [],
      "source": [
        "english=vocab_text.map(lambda x,y:x)\n",
        "french=vocab_text.map(lambda x,y:y)"
      ]
    },
    {
      "cell_type": "code",
      "execution_count": null,
      "metadata": {
        "id": "3-GEf2Aa7OFf"
      },
      "outputs": [],
      "source": [
        "#getting vocabulary for vector layer\n",
        "english_Vector.adapt(english)\n",
        "french_Vector.adapt(french)"
      ]
    },
    {
      "cell_type": "markdown",
      "source": [
        "### Vectorizing"
      ],
      "metadata": {
        "id": "2NXKx8dZHPms"
      }
    },
    {
      "cell_type": "code",
      "execution_count": null,
      "metadata": {
        "id": "bTA8WzMa5d4l"
      },
      "outputs": [],
      "source": [
        "# model should have one input for encoder (english), one input for decoder (french shifted right), one output for decoder (french w/ end token)\n",
        "def in_out(text):\n",
        "  split=tf.strings.split(text, \"\\t\")\n",
        "  return split[0],\"start \"+split[1],split[1]+\" end\"\n"
      ]
    },
    {
      "cell_type": "code",
      "source": [
        "inp_out=dataset.map(in_out)"
      ],
      "metadata": {
        "id": "bR79aIa9Gr4q"
      },
      "execution_count": null,
      "outputs": []
    },
    {
      "cell_type": "code",
      "execution_count": null,
      "metadata": {
        "id": "FNCO5BTW5d1q"
      },
      "outputs": [],
      "source": [
        "def vectorizer(inp_enc,inp_dec,out_dec):\n",
        "  return english_Vector(inp_enc),french_Vector(inp_dec),french_Vector(out_dec)"
      ]
    },
    {
      "cell_type": "code",
      "source": [
        "data=inp_out.map(vectorizer)"
      ],
      "metadata": {
        "id": "Qqcn3PN9G01c"
      },
      "execution_count": null,
      "outputs": []
    },
    {
      "cell_type": "code",
      "source": [
        "for i,j,k in data.take(1):\n",
        "  print(i,j,k)"
      ],
      "metadata": {
        "colab": {
          "base_uri": "https://localhost:8080/"
        },
        "id": "gU2OHFrnHNtr",
        "outputId": "157f1a91-2e1a-42c7-cddc-a9edbf736b5a"
      },
      "execution_count": null,
      "outputs": [
        {
          "output_type": "stream",
          "name": "stdout",
          "text": [
            "tf.Tensor(\n",
            "[44  0  0  0  0  0  0  0  0  0  0  0  0  0  0  0  0  0  0  0  0  0  0  0\n",
            "  0  0  0  0  0  0  0  0  0  0  0  0  0  0  0  0  0  0  0  0  0  0  0  0\n",
            "  0  0  0  0  0  0  0  0  0  0  0  0  0  0  0  0  0  0  0  0  0  0], shape=(70,), dtype=int64) tf.Tensor(\n",
            "[  2 104   0   0   0   0   0   0   0   0   0   0   0   0   0   0   0   0\n",
            "   0   0   0   0   0   0   0   0   0   0   0   0   0   0   0   0   0   0\n",
            "   0   0   0   0   0   0   0   0   0   0   0   0   0   0   0   0   0   0\n",
            "   0   0   0   0   0   0   0   0   0   0   0   0   0   0   0   0], shape=(70,), dtype=int64) tf.Tensor(\n",
            "[104   3   0   0   0   0   0   0   0   0   0   0   0   0   0   0   0   0\n",
            "   0   0   0   0   0   0   0   0   0   0   0   0   0   0   0   0   0   0\n",
            "   0   0   0   0   0   0   0   0   0   0   0   0   0   0   0   0   0   0\n",
            "   0   0   0   0   0   0   0   0   0   0   0   0   0   0   0   0], shape=(70,), dtype=int64)\n"
          ]
        }
      ]
    },
    {
      "cell_type": "code",
      "source": [
        "english_Vector.get_vocabulary()[44]"
      ],
      "metadata": {
        "colab": {
          "base_uri": "https://localhost:8080/",
          "height": 36
        },
        "id": "5M_RZjhcHghh",
        "outputId": "de9857c4-b73b-43af-ab09-e231a5893ee7"
      },
      "execution_count": null,
      "outputs": [
        {
          "output_type": "execute_result",
          "data": {
            "text/plain": [
              "'go'"
            ],
            "application/vnd.google.colaboratory.intrinsic+json": {
              "type": "string"
            }
          },
          "metadata": {},
          "execution_count": 20
        }
      ]
    },
    {
      "cell_type": "code",
      "source": [
        "french_Vector.get_vocabulary()[104]"
      ],
      "metadata": {
        "colab": {
          "base_uri": "https://localhost:8080/",
          "height": 36
        },
        "id": "H-k5Ax0bHmMP",
        "outputId": "d721c675-2598-4c6d-c0dd-ef694ec88d6e"
      },
      "execution_count": null,
      "outputs": [
        {
          "output_type": "execute_result",
          "data": {
            "text/plain": [
              "'va'"
            ],
            "application/vnd.google.colaboratory.intrinsic+json": {
              "type": "string"
            }
          },
          "metadata": {},
          "execution_count": 21
        }
      ]
    },
    {
      "cell_type": "code",
      "source": [
        "# Data preparation for model\n",
        "def vectorizer_model(inp_enc,inp_dec,out_dec):\n",
        "  return (english_Vector(inp_enc),french_Vector(inp_dec)),french_Vector(out_dec)"
      ],
      "metadata": {
        "id": "qwzMevkEQs51"
      },
      "execution_count": null,
      "outputs": []
    },
    {
      "cell_type": "code",
      "source": [
        "required_data=inp_out.map(vectorizer_model)"
      ],
      "metadata": {
        "id": "l5CWzULfQ4OE"
      },
      "execution_count": null,
      "outputs": []
    },
    {
      "cell_type": "code",
      "source": [
        "for i,j in required_data.take(1):\n",
        "  print(i)"
      ],
      "metadata": {
        "colab": {
          "base_uri": "https://localhost:8080/"
        },
        "id": "rzx4sYMqYYh0",
        "outputId": "32db59e1-433d-477b-8362-f2258a5a0aca"
      },
      "execution_count": null,
      "outputs": [
        {
          "output_type": "stream",
          "name": "stdout",
          "text": [
            "(<tf.Tensor: shape=(70,), dtype=int64, numpy=\n",
            "array([44,  0,  0,  0,  0,  0,  0,  0,  0,  0,  0,  0,  0,  0,  0,  0,  0,\n",
            "        0,  0,  0,  0,  0,  0,  0,  0,  0,  0,  0,  0,  0,  0,  0,  0,  0,\n",
            "        0,  0,  0,  0,  0,  0,  0,  0,  0,  0,  0,  0,  0,  0,  0,  0,  0,\n",
            "        0,  0,  0,  0,  0,  0,  0,  0,  0,  0,  0,  0,  0,  0,  0,  0,  0,\n",
            "        0,  0])>, <tf.Tensor: shape=(70,), dtype=int64, numpy=\n",
            "array([  2, 104,   0,   0,   0,   0,   0,   0,   0,   0,   0,   0,   0,\n",
            "         0,   0,   0,   0,   0,   0,   0,   0,   0,   0,   0,   0,   0,\n",
            "         0,   0,   0,   0,   0,   0,   0,   0,   0,   0,   0,   0,   0,\n",
            "         0,   0,   0,   0,   0,   0,   0,   0,   0,   0,   0,   0,   0,\n",
            "         0,   0,   0,   0,   0,   0,   0,   0,   0,   0,   0,   0,   0,\n",
            "         0,   0,   0,   0,   0])>)\n"
          ]
        }
      ]
    },
    {
      "cell_type": "code",
      "source": [
        "req_data_1=required_data.shuffle(buffer_size=3000).batch(64).prefetch(buffer_size=tf.data.AUTOTUNE)\n",
        "number_of_batches=217975/64\n",
        "training_data_1=req_data_1.take(int(0.8*number_of_batches))\n",
        "val_data_buf=req_data_1.skip(int(0.8*number_of_batches))\n",
        "val_data_1=val_data_buf.take(int(0.1*number_of_batches))\n",
        "test_data_1=val_data_1.skip(int(0.1*number_of_batches))"
      ],
      "metadata": {
        "id": "ZRxIWMPFYr-P"
      },
      "execution_count": null,
      "outputs": []
    },
    {
      "cell_type": "code",
      "source": [
        "for i,j in training_data_1.take(1):\n",
        "  print(i)"
      ],
      "metadata": {
        "colab": {
          "base_uri": "https://localhost:8080/"
        },
        "id": "UE5fc4YgY8x0",
        "outputId": "eb37f8ed-e136-4c0a-a677-21490e8905bc"
      },
      "execution_count": null,
      "outputs": [
        {
          "output_type": "stream",
          "name": "stdout",
          "text": [
            "(<tf.Tensor: shape=(64, 70), dtype=int64, numpy=\n",
            "array([[ 208,   16,    0, ...,    0,    0,    0],\n",
            "       [  27, 3624,    0, ...,    0,    0,    0],\n",
            "       [ 124,   65,    0, ...,    0,    0,    0],\n",
            "       ...,\n",
            "       [ 524,   13,    0, ...,    0,    0,    0],\n",
            "       [  21, 3566,    0, ...,    0,    0,    0],\n",
            "       [ 356,   12,    0, ...,    0,    0,    0]])>, <tf.Tensor: shape=(64, 70), dtype=int64, numpy=\n",
            "array([[   2, 2250,    0, ...,    0,    0,    0],\n",
            "       [   2,  262,    1, ...,    0,    0,    0],\n",
            "       [   2,  165, 6822, ...,    0,    0,    0],\n",
            "       ...,\n",
            "       [   2, 4529,   35, ...,    0,    0,    0],\n",
            "       [   2,    4,   25, ...,    0,    0,    0],\n",
            "       [   2,  920,  649, ...,    0,    0,    0]])>)\n"
          ]
        }
      ]
    },
    {
      "cell_type": "code",
      "source": [
        "req_data=required_data.shuffle(buffer_size=3000).unbatch().batch(50000).prefetch(buffer_size=tf.data.AUTOTUNE)"
      ],
      "metadata": {
        "id": "S03Gea6NRNAG"
      },
      "execution_count": null,
      "outputs": []
    },
    {
      "cell_type": "code",
      "source": [
        "number_of_batches=217975/5000"
      ],
      "metadata": {
        "id": "GY-xQquGRt7X"
      },
      "execution_count": null,
      "outputs": []
    },
    {
      "cell_type": "code",
      "source": [
        "training_data=req_data.take(int(0.8*number_of_batches))\n",
        "val_data=req_data.skip(int(0.8*number_of_batches))"
      ],
      "metadata": {
        "id": "xa5yZF_0RGD-"
      },
      "execution_count": null,
      "outputs": []
    },
    {
      "cell_type": "code",
      "source": [
        "for i,j in training_data.take(1):\n",
        "  print(print(i[0]))"
      ],
      "metadata": {
        "colab": {
          "base_uri": "https://localhost:8080/"
        },
        "id": "7flLxloRU525",
        "outputId": "b2af5c77-a72c-4714-c3e4-cc0580776735"
      },
      "execution_count": null,
      "outputs": [
        {
          "output_type": "stream",
          "name": "stdout",
          "text": [
            "tf.Tensor([ 17 539   0 ...   0   0   0], shape=(50000,), dtype=int64)\n",
            "None\n"
          ]
        }
      ]
    },
    {
      "cell_type": "markdown",
      "metadata": {
        "id": "byM_kOpq5dzF"
      },
      "source": [
        "## Model Building"
      ]
    },
    {
      "cell_type": "code",
      "execution_count": null,
      "metadata": {
        "id": "K-6wdgmfCom6"
      },
      "outputs": [],
      "source": [
        "# encoder\n",
        "input_1=tf.keras.layers.Input(shape=(70))\n",
        "embedding=tf.keras.layers.Embedding(10000,(50))(input_1)\n",
        "encoded_output=tf.keras.layers.LSTM(3)(embedding)"
      ]
    },
    {
      "cell_type": "code",
      "execution_count": null,
      "metadata": {
        "id": "Y9R-Rd6U9BVS"
      },
      "outputs": [],
      "source": [
        "# decoder\n",
        "input_dec=tf.keras.layers.Input(shape=(70,))\n",
        "embedding_dec=tf.keras.layers.Embedding(10000,50)(input_dec)\n",
        "decoded_output=tf.keras.layers.GRU(3,return_sequences=True)(embedding_dec,initial_state=encoded_output)"
      ]
    },
    {
      "cell_type": "code",
      "execution_count": null,
      "metadata": {
        "id": "qbaKhd1J9BRu"
      },
      "outputs": [],
      "source": [
        "# fully connected\n",
        "fc=tf.keras.layers.Dense(10000,activation=\"softmax\")(decoded_output)"
      ]
    },
    {
      "cell_type": "code",
      "execution_count": null,
      "metadata": {
        "id": "QC94yxe19BQF"
      },
      "outputs": [],
      "source": [
        "# Translation\n",
        "translation=tf.keras.Model([input_1,input_dec],fc)"
      ]
    },
    {
      "cell_type": "code",
      "source": [
        "translation.summary()"
      ],
      "metadata": {
        "colab": {
          "base_uri": "https://localhost:8080/"
        },
        "id": "mtIjZYBrOpym",
        "outputId": "fbac8840-17b9-47dc-9793-2bea9ac26ec0"
      },
      "execution_count": null,
      "outputs": [
        {
          "output_type": "stream",
          "name": "stdout",
          "text": [
            "Model: \"model\"\n",
            "__________________________________________________________________________________________________\n",
            " Layer (type)                   Output Shape         Param #     Connected to                     \n",
            "==================================================================================================\n",
            " input_1 (InputLayer)           [(None, 70)]         0           []                               \n",
            "                                                                                                  \n",
            " input_2 (InputLayer)           [(None, 70)]         0           []                               \n",
            "                                                                                                  \n",
            " embedding (Embedding)          (None, 70, 50)       500000      ['input_1[0][0]']                \n",
            "                                                                                                  \n",
            " embedding_1 (Embedding)        (None, 70, 50)       500000      ['input_2[0][0]']                \n",
            "                                                                                                  \n",
            " lstm (LSTM)                    (None, 3)            648         ['embedding[0][0]']              \n",
            "                                                                                                  \n",
            " gru (GRU)                      (None, 70, 3)        495         ['embedding_1[0][0]',            \n",
            "                                                                  'lstm[0][0]']                   \n",
            "                                                                                                  \n",
            " dense (Dense)                  (None, 70, 10000)    40000       ['gru[0][0]']                    \n",
            "                                                                                                  \n",
            "==================================================================================================\n",
            "Total params: 1,041,143\n",
            "Trainable params: 1,041,143\n",
            "Non-trainable params: 0\n",
            "__________________________________________________________________________________________________\n"
          ]
        }
      ]
    },
    {
      "cell_type": "code",
      "source": [
        "translation.compile(\n",
        "    loss=tf.keras.losses.SparseCategoricalCrossentropy(),\n",
        "    optimizer=tf.keras.optimizers.Adam(5e-4),)"
      ],
      "metadata": {
        "id": "RMxEd1InOryJ"
      },
      "execution_count": null,
      "outputs": []
    },
    {
      "cell_type": "code",
      "source": [
        "translation.fit(training_data_1,validation_data=val_data_1,epochs=5)"
      ],
      "metadata": {
        "colab": {
          "base_uri": "https://localhost:8080/"
        },
        "id": "UZijU66pP_Ab",
        "outputId": "00d4e7bf-19be-487f-f0df-3668e29e578f"
      },
      "execution_count": null,
      "outputs": [
        {
          "output_type": "stream",
          "name": "stdout",
          "text": [
            "Epoch 1/5\n",
            "    260/Unknown - 261s 976ms/step - loss: 8.6460"
          ]
        }
      ]
    },
    {
      "cell_type": "code",
      "source": [
        "index_to_word={x:y for x, y in zip(range(len(french_Vector.get_vocabulary())),\n",
        "                                   french_Vector.get_vocabulary())}"
      ],
      "metadata": {
        "id": "IKFah1toudpl"
      },
      "execution_count": null,
      "outputs": []
    },
    {
      "cell_type": "code",
      "source": [
        "def translator(english_sent):\n",
        "  eng_vector=english_Vector([english_sent])\n",
        "\n",
        "  dec_inp=\"start\"\n",
        "  for i in range(70):\n",
        "    fre_vector=french_Vector([dec_inp])\n",
        "\n",
        "    output=translation.predict([eng_vector,fre_vector])\n",
        "\n",
        "    word=tf.argmax(output,axis=-1)[0][i].numpy()\n",
        "    french_word=index_to_word[word]\n",
        "    if french_word==\"end\":\n",
        "      break\n",
        "    dec_inp+=' '+french_word\n",
        "  return dec_inp"
      ],
      "metadata": {
        "id": "_JeFOa2AP-9g"
      },
      "execution_count": null,
      "outputs": []
    },
    {
      "cell_type": "code",
      "source": [
        "translator(\"i read book\")"
      ],
      "metadata": {
        "id": "TZZkjZZyo4f6"
      },
      "execution_count": null,
      "outputs": []
    },
    {
      "cell_type": "code",
      "source": [
        "english_Vector([\"i go read\"])"
      ],
      "metadata": {
        "id": "wzbhKUd8eF9T"
      },
      "execution_count": null,
      "outputs": []
    },
    {
      "cell_type": "code",
      "source": [],
      "metadata": {
        "id": "dL41cEVtobaz"
      },
      "execution_count": null,
      "outputs": []
    }
  ],
  "metadata": {
    "accelerator": "TPU",
    "colab": {
      "provenance": [],
      "gpuType": "T4"
    },
    "kernelspec": {
      "display_name": "Python 3",
      "name": "python3"
    },
    "language_info": {
      "name": "python"
    }
  },
  "nbformat": 4,
  "nbformat_minor": 0
}